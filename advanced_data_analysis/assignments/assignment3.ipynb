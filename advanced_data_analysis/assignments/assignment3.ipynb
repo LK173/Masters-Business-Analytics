{
 "cells": [
  {
   "attachments": {},
   "cell_type": "markdown",
   "metadata": {},
   "source": [
    "# Advanced Data Analysis - Assignment 3\n",
    "\n",
    "This notebook contains the proposed solution for **Assignment 3** of the Advanced Data Analysis course.\n",
    "\n",
    "The assignment is **individual**.\n",
    "\n",
    "[//]: # (We will be using latex for fomulas)\n",
    "\n",
    "<script type=\"text/javascript\"\n",
    "        src=\"https://cdnjs.cloudflare.com/ajax/libs/mathjax/2.7.0/MathJax.js?config=TeX-AMS_CHTML\"></script>\n",
    "        \n",
    "        "
   ]
  },
  {
   "cell_type": "markdown",
   "metadata": {},
   "source": [
    "# Group I "
   ]
  },
  {
   "cell_type": "markdown",
   "metadata": {},
   "source": [
    "Nowadays, industry players are using product quality certifications to promote their products.\n",
    "Vital factor in red wine certification and quality assessment is physicochemical tests, which\n",
    "are laboratory-based and consider factors like acidity, pH level, sugar, and other chemical\n",
    "properties. We would like to determine which feature(s) can be used regression that\n",
    "best predicts the quality red wine.\n",
    "\n",
    "Structure of the dataset:\n",
    "Input variables (based on physicochemical tests):\n",
    "- Fixed Acidity: Most acids involved with wine or fixed or non-volatile (do not evaporate readily)\n",
    "- Volatile Acidity: The amount of acetic acid in wine, which at too high of levels can lead to an unpleasant, vinegar taste\n",
    "- Citric Acid: Often added to wines to increase acidity, complement a specific flavor or prevent ferric hazes\n",
    "- Residual Sugar: From the natural grape sugars left in a wine after the alcoholic fermentation finishes.\n",
    "- Chlorides: The amount of salt in the wine\n",
    "- Free Sulfur Dioxide: It prevents microbial growth and the oxidation of wine\n",
    "- Total Sulfur Dioxide: The amount of free + bound forms of SO₂\n",
    "- Density: Sweeter wines have a higher density\n",
    "- pH: Describes the level of acidity on a scale of 0–14. Most wines are always between 3–4 on the pH scale\n",
    "- Alcohol: Available in small quantities in wines makes the drinkers sociable\n",
    "- Sulphates: A wine additive that contributes to SO₂ levels and acts as an antimicrobial and antioxidant\n",
    "- Quality: which is the output variable/predictor\n",
    "\n",
    "The dataset source is taken from https://archive.ics.uci.edu/ml/datasets/wine+quality.\n"
   ]
  },
  {
   "cell_type": "code",
   "execution_count": 72,
   "metadata": {},
   "outputs": [
    {
     "data": {
      "text/html": [
       "<div>\n",
       "<style scoped>\n",
       "    .dataframe tbody tr th:only-of-type {\n",
       "        vertical-align: middle;\n",
       "    }\n",
       "\n",
       "    .dataframe tbody tr th {\n",
       "        vertical-align: top;\n",
       "    }\n",
       "\n",
       "    .dataframe thead th {\n",
       "        text-align: right;\n",
       "    }\n",
       "</style>\n",
       "<table border=\"1\" class=\"dataframe\">\n",
       "  <thead>\n",
       "    <tr style=\"text-align: right;\">\n",
       "      <th></th>\n",
       "      <th>fixed acidity</th>\n",
       "      <th>volatile acidity</th>\n",
       "      <th>citric acid</th>\n",
       "      <th>residual sugar</th>\n",
       "      <th>chlorides</th>\n",
       "      <th>free sulfur dioxide</th>\n",
       "      <th>total sulfur dioxide</th>\n",
       "      <th>density</th>\n",
       "      <th>pH</th>\n",
       "      <th>sulphates</th>\n",
       "      <th>alcohol</th>\n",
       "      <th>quality</th>\n",
       "    </tr>\n",
       "  </thead>\n",
       "  <tbody>\n",
       "    <tr>\n",
       "      <th>0</th>\n",
       "      <td>7.4</td>\n",
       "      <td>0.70</td>\n",
       "      <td>0.00</td>\n",
       "      <td>1.9</td>\n",
       "      <td>0.076</td>\n",
       "      <td>11.0</td>\n",
       "      <td>34.0</td>\n",
       "      <td>0.9978</td>\n",
       "      <td>3.51</td>\n",
       "      <td>0.56</td>\n",
       "      <td>9.4</td>\n",
       "      <td>5</td>\n",
       "    </tr>\n",
       "    <tr>\n",
       "      <th>1</th>\n",
       "      <td>7.8</td>\n",
       "      <td>0.88</td>\n",
       "      <td>0.00</td>\n",
       "      <td>2.6</td>\n",
       "      <td>0.098</td>\n",
       "      <td>25.0</td>\n",
       "      <td>67.0</td>\n",
       "      <td>0.9968</td>\n",
       "      <td>3.20</td>\n",
       "      <td>0.68</td>\n",
       "      <td>9.8</td>\n",
       "      <td>5</td>\n",
       "    </tr>\n",
       "    <tr>\n",
       "      <th>2</th>\n",
       "      <td>7.8</td>\n",
       "      <td>0.76</td>\n",
       "      <td>0.04</td>\n",
       "      <td>2.3</td>\n",
       "      <td>0.092</td>\n",
       "      <td>15.0</td>\n",
       "      <td>54.0</td>\n",
       "      <td>0.9970</td>\n",
       "      <td>3.26</td>\n",
       "      <td>0.65</td>\n",
       "      <td>9.8</td>\n",
       "      <td>5</td>\n",
       "    </tr>\n",
       "    <tr>\n",
       "      <th>3</th>\n",
       "      <td>11.2</td>\n",
       "      <td>0.28</td>\n",
       "      <td>0.56</td>\n",
       "      <td>1.9</td>\n",
       "      <td>0.075</td>\n",
       "      <td>17.0</td>\n",
       "      <td>60.0</td>\n",
       "      <td>0.9980</td>\n",
       "      <td>3.16</td>\n",
       "      <td>0.58</td>\n",
       "      <td>9.8</td>\n",
       "      <td>6</td>\n",
       "    </tr>\n",
       "    <tr>\n",
       "      <th>4</th>\n",
       "      <td>7.4</td>\n",
       "      <td>0.70</td>\n",
       "      <td>0.00</td>\n",
       "      <td>1.9</td>\n",
       "      <td>0.076</td>\n",
       "      <td>11.0</td>\n",
       "      <td>34.0</td>\n",
       "      <td>0.9978</td>\n",
       "      <td>3.51</td>\n",
       "      <td>0.56</td>\n",
       "      <td>9.4</td>\n",
       "      <td>5</td>\n",
       "    </tr>\n",
       "  </tbody>\n",
       "</table>\n",
       "</div>"
      ],
      "text/plain": [
       "   fixed acidity  volatile acidity  citric acid  residual sugar  chlorides  \\\n",
       "0            7.4              0.70         0.00             1.9      0.076   \n",
       "1            7.8              0.88         0.00             2.6      0.098   \n",
       "2            7.8              0.76         0.04             2.3      0.092   \n",
       "3           11.2              0.28         0.56             1.9      0.075   \n",
       "4            7.4              0.70         0.00             1.9      0.076   \n",
       "\n",
       "   free sulfur dioxide  total sulfur dioxide  density    pH  sulphates  \\\n",
       "0                 11.0                  34.0   0.9978  3.51       0.56   \n",
       "1                 25.0                  67.0   0.9968  3.20       0.68   \n",
       "2                 15.0                  54.0   0.9970  3.26       0.65   \n",
       "3                 17.0                  60.0   0.9980  3.16       0.58   \n",
       "4                 11.0                  34.0   0.9978  3.51       0.56   \n",
       "\n",
       "   alcohol  quality  \n",
       "0      9.4        5  \n",
       "1      9.8        5  \n",
       "2      9.8        5  \n",
       "3      9.8        6  \n",
       "4      9.4        5  "
      ]
     },
     "execution_count": 72,
     "metadata": {},
     "output_type": "execute_result"
    }
   ],
   "source": [
    "# This code cell does not need to be changed\n",
    "import os\n",
    "import numpy as np\n",
    "import pandas as pd\n",
    "from sklearn import linear_model\n",
    "import matplotlib.pyplot as plt\n",
    "\n",
    "dataFileName = \"winequality-red.csv\"\n",
    "dataDF = pd.read_csv(dataFileName)\n",
    "\n",
    "dataDF.head()"
   ]
  },
  {
   "cell_type": "markdown",
   "metadata": {},
   "source": [
    "## Question 1 (1 point out of 20)"
   ]
  },
  {
   "cell_type": "markdown",
   "metadata": {},
   "source": [
    "Identify the variables that are more linearly correlated with the quality of red wine"
   ]
  },
  {
   "cell_type": "code",
   "execution_count": 73,
   "metadata": {},
   "outputs": [
    {
     "name": "stdout",
     "output_type": "stream",
     "text": [
      "Sorted Correlation with highest correlation to quality\n"
     ]
    },
    {
     "data": {
      "text/html": [
       "<div>\n",
       "<style scoped>\n",
       "    .dataframe tbody tr th:only-of-type {\n",
       "        vertical-align: middle;\n",
       "    }\n",
       "\n",
       "    .dataframe tbody tr th {\n",
       "        vertical-align: top;\n",
       "    }\n",
       "\n",
       "    .dataframe thead th {\n",
       "        text-align: right;\n",
       "    }\n",
       "</style>\n",
       "<table border=\"1\" class=\"dataframe\">\n",
       "  <thead>\n",
       "    <tr style=\"text-align: right;\">\n",
       "      <th></th>\n",
       "      <th>correlation of quality shown absolut correlations</th>\n",
       "    </tr>\n",
       "  </thead>\n",
       "  <tbody>\n",
       "    <tr>\n",
       "      <th>quality</th>\n",
       "      <td>1.000000</td>\n",
       "    </tr>\n",
       "    <tr>\n",
       "      <th>alcohol</th>\n",
       "      <td>0.476166</td>\n",
       "    </tr>\n",
       "    <tr>\n",
       "      <th>volatile acidity</th>\n",
       "      <td>0.390558</td>\n",
       "    </tr>\n",
       "    <tr>\n",
       "      <th>sulphates</th>\n",
       "      <td>0.251397</td>\n",
       "    </tr>\n",
       "    <tr>\n",
       "      <th>citric acid</th>\n",
       "      <td>0.226373</td>\n",
       "    </tr>\n",
       "    <tr>\n",
       "      <th>total sulfur dioxide</th>\n",
       "      <td>0.185100</td>\n",
       "    </tr>\n",
       "    <tr>\n",
       "      <th>density</th>\n",
       "      <td>0.174919</td>\n",
       "    </tr>\n",
       "    <tr>\n",
       "      <th>chlorides</th>\n",
       "      <td>0.128907</td>\n",
       "    </tr>\n",
       "    <tr>\n",
       "      <th>fixed acidity</th>\n",
       "      <td>0.124052</td>\n",
       "    </tr>\n",
       "    <tr>\n",
       "      <th>pH</th>\n",
       "      <td>0.057731</td>\n",
       "    </tr>\n",
       "    <tr>\n",
       "      <th>free sulfur dioxide</th>\n",
       "      <td>0.050656</td>\n",
       "    </tr>\n",
       "    <tr>\n",
       "      <th>residual sugar</th>\n",
       "      <td>0.013732</td>\n",
       "    </tr>\n",
       "  </tbody>\n",
       "</table>\n",
       "</div>"
      ],
      "text/plain": [
       "                      correlation of quality shown absolut correlations\n",
       "quality                                                        1.000000\n",
       "alcohol                                                        0.476166\n",
       "volatile acidity                                               0.390558\n",
       "sulphates                                                      0.251397\n",
       "citric acid                                                    0.226373\n",
       "total sulfur dioxide                                           0.185100\n",
       "density                                                        0.174919\n",
       "chlorides                                                      0.128907\n",
       "fixed acidity                                                  0.124052\n",
       "pH                                                             0.057731\n",
       "free sulfur dioxide                                            0.050656\n",
       "residual sugar                                                 0.013732"
      ]
     },
     "metadata": {},
     "output_type": "display_data"
    }
   ],
   "source": [
    "#TODO\n",
    "# Pearson Correlation features correlated with quality\n",
    "print('Sorted Correlation with highest correlation to quality')\n",
    "dataDF_corr_quality = dataDF.corrwith(dataDF['quality']).abs().to_frame(name='correlation of quality shown absolut correlations').sort_values(by='correlation of quality shown absolut correlations',ascending=False)\n",
    "display(dataDF_corr_quality)\n"
   ]
  },
  {
   "cell_type": "markdown",
   "metadata": {},
   "source": [
    "## Question 2 ( 2 points out of 20)"
   ]
  },
  {
   "cell_type": "markdown",
   "metadata": {},
   "source": [
    "Estimate the true error of a model that uses the top 4 variables more correlated with the quality of red wine"
   ]
  },
  {
   "cell_type": "code",
   "execution_count": 74,
   "metadata": {},
   "outputs": [
    {
     "name": "stdout",
     "output_type": "stream",
     "text": [
      "Estimated true error (test error): 0.4439518038537466\n"
     ]
    }
   ],
   "source": [
    "#TODO\n",
    "from sklearn import linear_model\n",
    "from sklearn.model_selection import train_test_split\n",
    "from sklearn.preprocessing import PolynomialFeatures\n",
    "from sklearn.model_selection import cross_val_score\n",
    "\n",
    "def regression_f(input, price):\n",
    "    model = linear_model.LinearRegression()\n",
    "    return -1*cross_val_score(model, input, price, scoring='neg_mean_squared_error', cv=10).mean()\n",
    "\n",
    "# Multiple lineare regression\n",
    "test_error_multiple_linear = regression_f(dataDF[['alcohol', 'volatile acidity','sulphates','citric acid']], dataDF[['quality']])\n",
    "print(f'Estimated true error (test error): {test_error_multiple_linear}')"
   ]
  },
  {
   "cell_type": "markdown",
   "metadata": {},
   "source": [
    "## Question 3 ( 4 points out of 20)"
   ]
  },
  {
   "cell_type": "markdown",
   "metadata": {},
   "source": [
    "Evaluate two other models of your choice and compare/discuss their expected errors? (explain your criteria for each model tested)"
   ]
  },
  {
   "cell_type": "code",
   "execution_count": 75,
   "metadata": {},
   "outputs": [
    {
     "name": "stdout",
     "output_type": "stream",
     "text": [
      "Using a Polynomial linear regression by using the degree of 2 and just alcohol with the highest correlation with quality\n",
      "Estimated true error (test error): 0.510860408433605\n",
      "Using a Multiple non-linear regression model 3 degree and 3 features with highest correlations with quality\n",
      "Estimated true error (test error): 0.4233623380146877\n"
     ]
    }
   ],
   "source": [
    "#TODO\n",
    "\n",
    "# Polynomial linear regression by using the degree of 2 and just alcohol\n",
    "print(\"Using a Polynomial linear regression by using the degree of 2 and just alcohol with the highest correlation with quality\")\n",
    "polynomial_features_poly_linear = PolynomialFeatures(degree = 2)\n",
    "test_error_poly_linear = regression_f(polynomial_features_poly_linear.fit_transform(dataDF[['alcohol']]), dataDF[['quality']])\n",
    "print(f'Estimated true error (test error): {test_error_poly_linear}')\n",
    "\n",
    "# Multiple non-linear regression model 3 degree and 3 features\n",
    "print(\"Using a Multiple non-linear regression model 3 degree and 3 features with highest correlations with quality\")\n",
    "polynomial_features_multipl_non_linear_three_var = PolynomialFeatures(degree = 3)\n",
    "test_error_poly_multipl_non_linear_three_var = regression_f(polynomial_features_multipl_non_linear_three_var.fit_transform(dataDF[['alcohol', 'volatile acidity','sulphates']]), dataDF[['quality']])\n",
    "print(f'Estimated true error (test error): {test_error_poly_multipl_non_linear_three_var}')"
   ]
  },
  {
   "cell_type": "markdown",
   "metadata": {},
   "source": [
    "### Relational:\n",
    "\n",
    "Models used:\n",
    "1. Polynomial linear regression by using the degree of 2 and alcohol as the variable with highest correlation\n",
    "2. Multiple non-linear regression model 3 degree and the three variables (alcohol,volatile acidity,sulphates) with the highest correlation with the quality of wine\n",
    "\n",
    "- I used different models to show the differences of the accuracy by using different model to one dataset and also vary the amount of variables in the models and the degree of of the models\n",
    "- By Polynomial linear regression i used just alcohol as a variable because it is the variable with the highest correlation\n",
    "- By Multiple non-linear regression model I am using the first three varibles with the highest correlation\n",
    "\n",
    "Result:\n",
    "\n",
    "Comparing the three calculated models:\n",
    "\n",
    "- The Polynomial linear regression with a degree od 2 is performing worser with a true error of 0.51 than the multiple linear regression from question 2 with a true error of 0.44 and the multiple non-linear regression model with a degree of 3 and the three variables with the highest correlation related to quality with a true error of 0.42. \n",
    "- That the multiple non-linear regression model with a degree of 3 and the three variables has the best perfomrance is due to the fact that not only the one variable with the highest correlation but also the two other variables with the highest correlation were included and the data points with the mutual dependencies can thus be better described. On the other hand, a higher degree can better adapt to the trend of the data, which leads to more accurate predictions. As mentioned above, a higher degree also decreases the accuracy as I found with degree 4 due to overfitting. Also just adding randomly new variables can decrease the accuracy. Thus be aware of using just limited and really important variables.\n",
    "- You can see that by just using the most important three variables which have the highest correlation with the qualtiy of wine the true error recuded and is just 0.423 and thus the multiple non-linear regression model is the best model of the three models tested in the questions 2 and 3.\n",
    "\n",
    "\n",
    "\n",
    "Explanation of the criterias of the choice of the models regarding the degree and variables:\n",
    "\n",
    "- I used the degree of 3 because a higher degree as 3 for example a degree of 4 lets the error raises by a change from 3 to 4 from 0,42 to 0,44 thats why I will continue with a degree of 3\n",
    "- Used these variables and 3 because there are most correlated and adding other less correlated varibales would decrease the accuracy and increase the true error because they have no impact on the quality.\n",
    "- It is more resonable to look on limited and important variables.\n",
    "- It is shown that not just adding randome additionally variables into a model will improve the model and will reduce the true error. It is the other way round and randome added variables will just increase the true error and degrade the accuracy of the model. I tested it and added also the variable with the fourth highest correlation called 'citric acid' to the multiple non-linear regression model and got an higher true error of 0.48. Thats why I decided to just take the three variables with the highest correlation with the quality of wine."
   ]
  },
  {
   "cell_type": "markdown",
   "metadata": {},
   "source": [
    "## Question 4 ( 3 points out of 20)"
   ]
  },
  {
   "cell_type": "markdown",
   "metadata": {},
   "source": [
    "Based on the best model identified previously, build a final model, report the formula (coefficients found) and evaluate it. On average, how far is your predictions from the actual values?"
   ]
  },
  {
   "cell_type": "code",
   "execution_count": 76,
   "metadata": {},
   "outputs": [
    {
     "name": "stdout",
     "output_type": "stream",
     "text": [
      "Intercept of the model= [21.96700965]\n",
      "Coefficients of the model= [[ 0.00000000e+00 -8.47914602e+00  3.37896984e+01  3.26202476e+01\n",
      "   1.00302673e+00 -4.97659879e+00 -3.39883505e+00 -3.06136020e+00\n",
      "  -1.92028384e+01 -1.22122696e+01 -3.53564134e-02  1.93488812e-01\n",
      "   1.14246623e-01 -3.98791834e-03  1.12857435e+00  4.96237750e-01\n",
      "   4.74972092e-01  3.68454945e+00  2.38057645e+00  1.57736980e+00]]\n",
      "\n",
      "Test error/True error (mean absolut error): 0.48290061196489376\n",
      "\n",
      "Average residuals of 0.48290061196489376\n"
     ]
    },
    {
     "data": {
      "image/png": "[encoded data removed]",
      "text/plain": [
       "<Figure size 640x480 with 1 Axes>"
      ]
     },
     "metadata": {},
     "output_type": "display_data"
    }
   ],
   "source": [
    "#TODO\n",
    "\n",
    "from sklearn import linear_model\n",
    "from sklearn.model_selection import train_test_split\n",
    "from sklearn.metrics import mean_absolute_error\n",
    "\n",
    "\n",
    "polynomial_features = PolynomialFeatures(degree = 3)\n",
    "seed = 40\n",
    "# Set polynomial features and build the dataframe\n",
    "poly_trans_x = polynomial_features.fit_transform(dataDF[['alcohol', 'volatile acidity','sulphates']])\n",
    "poly_trans_x_df = pd.DataFrame(poly_trans_x)\n",
    "\n",
    "# Define y\n",
    "y = dataDF[['quality']]\n",
    "y_df = pd.DataFrame(y)\n",
    "\n",
    "# Include quality column in the poly_trans_x_df\n",
    "poly_trans_all_df = poly_trans_x_df\n",
    "poly_trans_all_df['quality'] = dataDF[['quality']]\n",
    "\n",
    "\n",
    "#display(poly_trans_all_df)\n",
    "\n",
    "# Split in train and test set\n",
    "train_set, test_set = train_test_split(poly_trans_all_df, test_size = 0.2, random_state = seed)\n",
    "\n",
    "#Print intercept\n",
    "print(\"Intercept of the model= \" +str(model_fit.intercept_))\n",
    "print(\"Coefficients of the model= \" +str(model_fit.coef_))\n",
    "\n",
    "# Save the varibales of test and train set\n",
    "\n",
    "x_train = train_set.drop(['quality'], axis=1)\n",
    "y_train = train_set[['quality']]\n",
    "\n",
    "x_test = test_set.drop(['quality'], axis=1)\n",
    "y_test = test_set[['quality']]\n",
    "\n",
    "\n",
    "#Fit the model with train data\n",
    "model = linear_model.LinearRegression()\n",
    "model_fit = model.fit(train_set.drop(['quality'], axis = 1), train_set[['quality']])\n",
    "\n",
    "# Calculation of the Mean absolut error of the model\n",
    "poly_model = model.predict(x_train)\n",
    "\n",
    "poly_pred_test = model.predict(x_test)\n",
    "\n",
    "error_train = mean_absolute_error(y_train, poly_model)\n",
    "\n",
    "error_test = mean_absolute_error(y_test, poly_pred_test)\n",
    "\n",
    "print()\n",
    "print('Test error/True error (mean absolut error): '+ str(error_test))\n",
    "\n",
    "\n",
    "# Plot resiudal\n",
    "y_pred_test = model_fit.predict(test_set.drop(['quality'], axis = 1))\n",
    "\n",
    "# Abs() damit sich beim mean nicht positive und negative ausgelichen und erklärung anpassen\n",
    "residuals_abs = abs(test_set[['quality']] - y_pred_test)\n",
    "\n",
    "residuals = test_set[['quality']] - y_pred_test\n",
    "\n",
    "plt.scatter(y_pred_test, residuals, color = 'blue')\n",
    "plt.title('Distribution of the residuals of the finale model')\n",
    "plt.xlabel('Predicted')\n",
    "plt.ylabel('Residual Value')\n",
    "\n",
    "# Print the mean of the residuals to calculate the average of how far is your predictions from the actual values\n",
    "residuals_mean = residuals_abs.mean()[0]\n",
    "print()\n",
    "print(\"Average residuals of \"+ str(residuals_mean))"
   ]
  },
  {
   "cell_type": "markdown",
   "metadata": {},
   "source": [
    "### Result\n",
    "- We are getting more columns than variables because the used variables are polynomial transformed with a degree of 3 and the variables also multiplied with each other thats why we are getting more than the 3*3=9 columns expected after the transformation\n",
    "- The average of the residuals with a value of 0.482901 and thus the deviation is low regarding the quality of the scale up to 5. That means that the average deviation of our prediction compared to the actuals is low and just 0.482901. Thats why it seem to be a really good model. As seen above the value of the manually calculated mean absolut error is exactly the value of the average of the residuals. Thats way the mean absolut error is just the function of manually calcualting the average of the resiudals. That is confirmed because the value as seen above is exactly the same for the manually calculation of the average resiudals or just using the mean absolut error. Because of the same calculation and formular the value is in both cases 0.482901\n",
    "- The residuals are located around zero and above zero and below zero is approximately the same amount of data points and the same distribution. It seems like a pretty good model because it is unifomrly distributed which is seen in the plot\n",
    "- The residuls graph shows the robustness of our selected model and we can analyse the distribution of the residuals. The best case is a uniform distribution of the residuals around zero. We are going to accept small errors but they should be uniform distributed. Is that the case we can explain and accept the error of the model"
   ]
  },
  {
   "cell_type": "markdown",
   "metadata": {},
   "source": [
    "# Group II"
   ]
  },
  {
   "cell_type": "markdown",
   "metadata": {},
   "source": [
    "The file internet.csv contains the estimated number of internet users (in millions) for each year from 1995\n",
    "through 2012. For answering the following questions, you can use or adapt any code from the lectures or exercises\n",
    "if you want.\n"
   ]
  },
  {
   "cell_type": "code",
   "execution_count": 77,
   "metadata": {},
   "outputs": [],
   "source": [
    "dataFileName = \"internet.csv\"\n",
    "dataDF = pd.read_csv(dataFileName)"
   ]
  },
  {
   "cell_type": "code",
   "execution_count": 78,
   "metadata": {},
   "outputs": [
    {
     "data": {
      "text/html": [
       "<div>\n",
       "<style scoped>\n",
       "    .dataframe tbody tr th:only-of-type {\n",
       "        vertical-align: middle;\n",
       "    }\n",
       "\n",
       "    .dataframe tbody tr th {\n",
       "        vertical-align: top;\n",
       "    }\n",
       "\n",
       "    .dataframe thead th {\n",
       "        text-align: right;\n",
       "    }\n",
       "</style>\n",
       "<table border=\"1\" class=\"dataframe\">\n",
       "  <thead>\n",
       "    <tr style=\"text-align: right;\">\n",
       "      <th></th>\n",
       "      <th>year</th>\n",
       "      <th>n_users</th>\n",
       "    </tr>\n",
       "  </thead>\n",
       "  <tbody>\n",
       "    <tr>\n",
       "      <th>0</th>\n",
       "      <td>0</td>\n",
       "      <td>16</td>\n",
       "    </tr>\n",
       "    <tr>\n",
       "      <th>1</th>\n",
       "      <td>1</td>\n",
       "      <td>36</td>\n",
       "    </tr>\n",
       "    <tr>\n",
       "      <th>2</th>\n",
       "      <td>2</td>\n",
       "      <td>70</td>\n",
       "    </tr>\n",
       "    <tr>\n",
       "      <th>3</th>\n",
       "      <td>3</td>\n",
       "      <td>147</td>\n",
       "    </tr>\n",
       "    <tr>\n",
       "      <th>4</th>\n",
       "      <td>4</td>\n",
       "      <td>248</td>\n",
       "    </tr>\n",
       "  </tbody>\n",
       "</table>\n",
       "</div>"
      ],
      "text/plain": [
       "   year  n_users\n",
       "0     0       16\n",
       "1     1       36\n",
       "2     2       70\n",
       "3     3      147\n",
       "4     4      248"
      ]
     },
     "execution_count": 78,
     "metadata": {},
     "output_type": "execute_result"
    }
   ],
   "source": [
    "dataset_df = pd.DataFrame()\n",
    "dataset_df['year'] = dataDF.index\n",
    "dataset_df['n_users'] = dataDF['n_users']\n",
    "dataset_df.head()"
   ]
  },
  {
   "cell_type": "markdown",
   "metadata": {},
   "source": [
    "## Question 1 (5 points out of 20)"
   ]
  },
  {
   "attachments": {
    "image.png": {
     "image/png": "[encoded data removed]"
    }
   },
   "cell_type": "markdown",
   "metadata": {},
   "source": [
    "In lecture 6, we used the logistic function with an offset parameter to better fit the curve to some arbitrary starting point:\n",
    "\n",
    "![image.png](attachment:image.png)\n",
    "\n",
    "Fit this model to the data and show to the plots of the data and the curve predicted by the\n",
    "model. Additionally, display the parameters found for the logistic model and explain the meaning of each one.  \n",
    "\n",
    "Note: I suggest you use these starting values for the minimization: L = 1000, x0 = 10, k = 0.1 and\n",
    "o = −300. If you use other values the minimization may not converge properly.\n"
   ]
  },
  {
   "cell_type": "code",
   "execution_count": 79,
   "metadata": {},
   "outputs": [
    {
     "data": {
      "text/plain": [
       "[<matplotlib.lines.Line2D at 0x18cb973b100>]"
      ]
     },
     "execution_count": 79,
     "metadata": {},
     "output_type": "execute_result"
    },
    {
     "data": {
      "image/png": "[encoded data removed]",
      "text/plain": [
       "<Figure size 1000x500 with 1 Axes>"
      ]
     },
     "metadata": {},
     "output_type": "display_data"
    }
   ],
   "source": [
    "#TODO\n",
    "\n",
    "from scipy.optimize import minimize\n",
    "\n",
    "# Logistic Function\n",
    "def logistic(x,x0,L,k):\n",
    "    return L/(1 + np.exp(-k*(x-x0)))\n",
    "\n",
    "# Cost function - Minimize mean squared error\n",
    "def log_cost(params, data):\n",
    "    x0,L,k,offset = params\n",
    "    pred = logistic(data.iloc[:,0],x0,L,k) + offset\n",
    "    return np.mean( (pred-data.iloc[:,1])**2)\n",
    "\n",
    "st_params = [10,1000,0.1,-300]\n",
    "plt.figure(figsize=(10,5))\n",
    "res_1=minimize(log_cost,st_params,args=(dataset_df))\n",
    "x0,L,k,offset = res_1.x # Best parameters found\n",
    "\n",
    "# Use the model found (logistic model with a set of parameters and an offset) to predict the values\n",
    "pred_logistic = logistic(dataset_df.iloc[:,0],x0,L,k) + offset\n",
    "\n",
    "# Plot the data and the model built\n",
    "plt.plot(dataset_df.iloc[:,0],dataset_df.iloc[:,1],'.')\n",
    "plt.plot(dataset_df.iloc[:,0],pred_logistic)"
   ]
  },
  {
   "cell_type": "code",
   "execution_count": 80,
   "metadata": {
    "scrolled": true
   },
   "outputs": [
    {
     "name": "stdout",
     "output_type": "stream",
     "text": [
      "x0 = 15.220609941630265 L = 6461.817294676044 k = 0.18872427426510888 offset = -384.6896150468235\n"
     ]
    }
   ],
   "source": [
    "#TODO\n",
    "# Calculating the parameters of the model\n",
    "print('x0 = '+ str(x0),'L = '+str(L),'k = '+str(k),'offset = '+ str(offset))"
   ]
  },
  {
   "cell_type": "markdown",
   "metadata": {},
   "source": [
    "### Explanations of the parameters:\n",
    "\n",
    "- x0 = Defines the x value of the sigmoid midpoint --> Fixed position of the turning point of the S curve --> Defines in our case the turning point by 15.22 years.\n",
    "- k = Defines the steepness of the curve (or, logistic growth rate) --> Greater x0 relates to a steeper curve and S course of the curve --> Defines in our case the slope of 0.189 means not a high slope.\n",
    "- L = Defines the curve's maximum value --> In our case the maximum value is 6461.82 million users --> The L is much higher as our datapoints because we have to less points and have to extand the set manually to reach the upperlimit calculated as offset+L.\n",
    "- Offset = An offset variable represents the mathematically lower and upper boundary of the model. The offset is the value by which the model must be shifted so that it lies with the trend exactly on the data points and can describe them. In our case, we shift the logisitc function down by 384.69 so that it lies on the data points and can predict the users. This is a shift of the y-axis section, since the logisitc function comes from the negative area and should predict the positive user numbers in the 2 quadrant. Furthermore, the upper limit of the model must also be adjusted due to the shift. Therefore the upper limit is described by offset+L in our case it is XX and the lower limit is the offset and therefore -384.69 so the range of our model is with the start at -384.69 and the end at (-384.69+6461.82) and therefore exactly meets our data points."
   ]
  },
  {
   "cell_type": "markdown",
   "metadata": {},
   "source": [
    "## Question 2 (2 points out of 20)"
   ]
  },
  {
   "cell_type": "markdown",
   "metadata": {},
   "source": [
    "Compute and plot the residuals of the model found. What can we tell about the model identified based on the Residual Plot? Is a logistic function a good option to model users' growth over time in our dataset?"
   ]
  },
  {
   "cell_type": "code",
   "execution_count": 81,
   "metadata": {},
   "outputs": [
    {
     "name": "stdout",
     "output_type": "stream",
     "text": [
      "Average of the residuals 54.56428226399507\n"
     ]
    },
    {
     "data": {
      "image/png": "[encoded data removed]",
      "text/plain": [
       "<Figure size 640x480 with 1 Axes>"
      ]
     },
     "metadata": {},
     "output_type": "display_data"
    }
   ],
   "source": [
    "#TODO\n",
    "\n",
    "# Plot resiudals\n",
    "\n",
    "residuals_logistic = dataset_df.iloc[:,1] - pred_logistic\n",
    "\n",
    "\n",
    "\n",
    "plt.scatter(pred_logistic, residuals_logistic)\n",
    "plt.xlabel('Predicted')\n",
    "plt.ylabel('Residual Value')\n",
    "\n",
    "# Mean of the resiudal to evaluate the model\n",
    "residual_logistic_mean = abs(residuals_logistic).mean()\n",
    "print('Average of the residuals ' +str(residual_logistic_mean))\n"
   ]
  },
  {
   "cell_type": "markdown",
   "metadata": {},
   "source": [
    "### Result\n",
    "\n",
    "- The shown model is not well working because the value of the residuals are not normaly distributed around zero and also widely scattered from zero as seen in the plot above. Furthermore the data set consists of too few data points which relates to very few residual points to make an adequate statement about the accuracy of the forecast and the model. Thats why the model is not confident to make adequate predicitions.\n",
    "- The model has a deviation between actuals and predicted values of 54.56 million users which is a small deviation compared to the range up to 3500 million users. Therefore, the model should not be discarded completely but should be rechecked later with more data. The resiudals can also approach a normal distribution there by using more datapoints.\n",
    "- In summary, however, the model is currently not to be used at this time for the reasons mentioned."
   ]
  },
  {
   "cell_type": "markdown",
   "metadata": {},
   "source": [
    "## Question 3 (3 points out of 20)"
   ]
  },
  {
   "cell_type": "markdown",
   "metadata": {},
   "source": [
    "Compute the 95% confidence interval for its parameters under the assumption that the random error affecting the data points comes from the same distribution for all points."
   ]
  },
  {
   "cell_type": "code",
   "execution_count": 82,
   "metadata": {},
   "outputs": [
    {
     "name": "stdout",
     "output_type": "stream",
     "text": [
      "Overview about the values of the parameters in the logisitc functions\n"
     ]
    },
    {
     "data": {
      "text/html": [
       "<div>\n",
       "<style scoped>\n",
       "    .dataframe tbody tr th:only-of-type {\n",
       "        vertical-align: middle;\n",
       "    }\n",
       "\n",
       "    .dataframe tbody tr th {\n",
       "        vertical-align: top;\n",
       "    }\n",
       "\n",
       "    .dataframe thead th {\n",
       "        text-align: right;\n",
       "    }\n",
       "</style>\n",
       "<table border=\"1\" class=\"dataframe\">\n",
       "  <thead>\n",
       "    <tr style=\"text-align: right;\">\n",
       "      <th></th>\n",
       "      <th>x0</th>\n",
       "      <th>L</th>\n",
       "      <th>k</th>\n",
       "      <th>offset</th>\n",
       "    </tr>\n",
       "  </thead>\n",
       "  <tbody>\n",
       "    <tr>\n",
       "      <th>0</th>\n",
       "      <td>17.150036</td>\n",
       "      <td>7752.846819</td>\n",
       "      <td>0.167803</td>\n",
       "      <td>-427.494939</td>\n",
       "    </tr>\n",
       "    <tr>\n",
       "      <th>1</th>\n",
       "      <td>13.487243</td>\n",
       "      <td>5200.522490</td>\n",
       "      <td>0.234997</td>\n",
       "      <td>-243.446566</td>\n",
       "    </tr>\n",
       "    <tr>\n",
       "      <th>2</th>\n",
       "      <td>25.611873</td>\n",
       "      <td>15844.969573</td>\n",
       "      <td>0.112935</td>\n",
       "      <td>-921.669988</td>\n",
       "    </tr>\n",
       "    <tr>\n",
       "      <th>3</th>\n",
       "      <td>14.004857</td>\n",
       "      <td>5735.551265</td>\n",
       "      <td>0.204192</td>\n",
       "      <td>-355.701221</td>\n",
       "    </tr>\n",
       "    <tr>\n",
       "      <th>4</th>\n",
       "      <td>15.171715</td>\n",
       "      <td>6354.525961</td>\n",
       "      <td>0.192757</td>\n",
       "      <td>-343.303750</td>\n",
       "    </tr>\n",
       "    <tr>\n",
       "      <th>5</th>\n",
       "      <td>13.945312</td>\n",
       "      <td>5478.320746</td>\n",
       "      <td>0.216078</td>\n",
       "      <td>-246.706882</td>\n",
       "    </tr>\n",
       "    <tr>\n",
       "      <th>6</th>\n",
       "      <td>13.444630</td>\n",
       "      <td>5059.733039</td>\n",
       "      <td>0.240177</td>\n",
       "      <td>-194.826725</td>\n",
       "    </tr>\n",
       "    <tr>\n",
       "      <th>7</th>\n",
       "      <td>16.588659</td>\n",
       "      <td>7431.768026</td>\n",
       "      <td>0.174389</td>\n",
       "      <td>-426.638242</td>\n",
       "    </tr>\n",
       "    <tr>\n",
       "      <th>8</th>\n",
       "      <td>16.273899</td>\n",
       "      <td>7364.106000</td>\n",
       "      <td>0.167138</td>\n",
       "      <td>-512.809423</td>\n",
       "    </tr>\n",
       "    <tr>\n",
       "      <th>9</th>\n",
       "      <td>15.306787</td>\n",
       "      <td>6566.838962</td>\n",
       "      <td>0.184453</td>\n",
       "      <td>-397.606239</td>\n",
       "    </tr>\n",
       "  </tbody>\n",
       "</table>\n",
       "</div>"
      ],
      "text/plain": [
       "          x0             L         k      offset\n",
       "0  17.150036   7752.846819  0.167803 -427.494939\n",
       "1  13.487243   5200.522490  0.234997 -243.446566\n",
       "2  25.611873  15844.969573  0.112935 -921.669988\n",
       "3  14.004857   5735.551265  0.204192 -355.701221\n",
       "4  15.171715   6354.525961  0.192757 -343.303750\n",
       "5  13.945312   5478.320746  0.216078 -246.706882\n",
       "6  13.444630   5059.733039  0.240177 -194.826725\n",
       "7  16.588659   7431.768026  0.174389 -426.638242\n",
       "8  16.273899   7364.106000  0.167138 -512.809423\n",
       "9  15.306787   6566.838962  0.184453 -397.606239"
      ]
     },
     "metadata": {},
     "output_type": "display_data"
    },
    {
     "name": "stdout",
     "output_type": "stream",
     "text": [
      "95% confidence interval of the parameter x0: [13.465936709797537, 21.380954348429334]\n",
      "95% confidence interval of the parameter L: [5130.127764296252, 11798.908195841188]\n",
      "95% confidence interval of the parameter k: [0.14003674841176988, 0.23758735424942123]\n",
      "95% confidence interval of the parameter offset: [-717.2397055021777, -219.13664525251465]\n"
     ]
    }
   ],
   "source": [
    "#TODO\n",
    "\n",
    "# Single lists for each parameter\n",
    "x0_ls=[]\n",
    "L_ls=[]\n",
    "k_ls=[]\n",
    "offset_ls=[]\n",
    "\n",
    "# Bootstrapping to fill the empty lists with 10 samples of parameters\n",
    "replicas = 10\n",
    "\n",
    "col_names = ['x0','L','k','offset']\n",
    "\n",
    "df_unc = pd.DataFrame(columns= col_names)\n",
    "\n",
    "\n",
    "for _ in range(replicas):\n",
    "\n",
    "    rep_data = dataset_df.copy() \n",
    "\n",
    "    rep_data.iloc[:,1] = pred_logistic + residuals_logistic*np.random.normal(size=dataset_df.shape[0])\n",
    "\n",
    "    res_2=minimize(log_cost,st_params,args=(rep_data))\n",
    "    x0,L,k,offset = res_2.x\n",
    "    x0_ls.append(x0)\n",
    "    L_ls.append(L)\n",
    "    k_ls.append(k)\n",
    "    offset_ls.append(offset)\n",
    "\n",
    "# Create a DataFrame out of the lists of each parameter\n",
    "df_unc_1 = pd.DataFrame([x0_ls,L_ls,k_ls,offset_ls])\n",
    "df_unc_1 = df_unc_1.transpose()\n",
    "df_unc_1.columns=['x0','L','k','offset']\n",
    "print('Overview about the values of the parameters in the logisitc functions')\n",
    "display(df_unc_1)\n",
    "\n",
    "\n",
    "# Calculation of the 95% confidence interval of each parameter\n",
    "# Range quantile 0.025 until 0.975 to get the 95% confidence interval --> Each side a border by 0.025 in total 0.05 (100-0.05 = 0.95)\n",
    "# Giving the 0.025 quantil as one border and the 0.975 quantile as the other border of the range\n",
    "\n",
    "x0_95_interval = [df_unc_1['x0'].quantile(0.025,interpolation = 'midpoint'), df_unc_1['x0'].quantile(0.975, interpolation = 'midpoint')]\n",
    "L_95_interval = [df_unc_1['L'].quantile(0.025,interpolation = 'midpoint'), df_unc_1['L'].quantile(0.975, interpolation = 'midpoint')]\n",
    "k_95_interval = [df_unc_1['k'].quantile(0.025,interpolation = 'midpoint'), df_unc_1['k'].quantile(0.975,interpolation = 'midpoint')]\n",
    "offset_95_interval = [df_unc_1['offset'].quantile(0.025,interpolation = 'midpoint'), df_unc_1['offset'].quantile(0.975,interpolation = 'midpoint')]\n",
    "\n",
    "print('95% confidence interval of the parameter x0: '+str(x0_95_interval))\n",
    "print('95% confidence interval of the parameter L: '+str(L_95_interval))\n",
    "print('95% confidence interval of the parameter k: '+str(k_95_interval))\n",
    "print('95% confidence interval of the parameter offset: '+str(offset_95_interval))\n"
   ]
  },
  {
   "cell_type": "code",
   "execution_count": 83,
   "metadata": {},
   "outputs": [
    {
     "data": {
      "image/png": "[encoded data removed]",
      "text/plain": [
       "<Figure size 640x480 with 1 Axes>"
      ]
     },
     "metadata": {},
     "output_type": "display_data"
    }
   ],
   "source": [
    "params = []\n",
    "lines = []\n",
    "x = dataset_df[['year']]\n",
    "y = dataset_df[['n_users']]\n",
    "residual_log = dataset_df.iloc[:,1]-pred_logistic\n",
    "\n",
    "replicas = 10\n",
    "\n",
    "df_unc = pd.DataFrame(x)\n",
    "\n",
    "i = 0;\n",
    "for _ in range(replicas):\n",
    "\n",
    "    rep_data = dataset_df.copy() \n",
    "\n",
    "    rep_data.iloc[:,1] = pred_logistic + residual_log*np.random.normal(size=dataset_df.shape[0])\n",
    "\n",
    "    res=minimize(log_cost,st_params,args=(rep_data))\n",
    "    x0,L,k,offset = res.x\n",
    "    pred_replica = logistic(dataset_df.iloc[:,0],x0,L,k)+offset\n",
    "\n",
    "    df_unc =  pd.concat([df_unc, pred_replica], axis=1)\n",
    "    df_unc\n",
    "    i = i + 1\n",
    "\n",
    "# Plot of the 95% confidence interval of the model by using 10 replicas with bootstrapping\n",
    "\n",
    "df_unc = df_unc.iloc[:, 1:replicas]\n",
    "plt.scatter(dataset_df.iloc[:,0], dataset_df.iloc[:,1], color='blue')\n",
    "\n",
    "# Calculate values of 95% confidence interval\n",
    "df_unc['p2.5'] = df_unc.quantile(0.025, axis = 1,interpolation = 'midpoint')\n",
    "df_unc['p975'] = df_unc.quantile(0.975, axis = 1,interpolation = 'midpoint')\n",
    "\n",
    "# Plot the confidence interval\n",
    "plt.fill_between(dataset_df.iloc[:,0], df_unc[['p2.5']].iloc[:,0], df_unc[['p975']].iloc[:,0], color='green',alpha=0.3)\n",
    "plt.title('Plot of the 95% confidence interval of our model by using 10 replicas')\n",
    "plt.show()"
   ]
  },
  {
   "cell_type": "markdown",
   "metadata": {},
   "source": [
    "### Result:\n",
    "Process and meaning of bootstrapping:\n",
    "\n",
    "- We are calculating slightly different datasets with the same distribution by using bootstrapping\n",
    "- Calculation of different replicas of our dataset and models of that slightly different datasets: pred + resiudals * with random normal distribution of values between -1 and 1.\n",
    "- Residuals are the deviation * normally distributed randome value between -1 and 1 thus most values are close to 0 and let the residuals and thus deviation vary a bit by multiplication so we get different models\n",
    "- Afterwards we are calculating the interval in which the different models of slightly different datasets are located\n",
    "\n",
    "Result:\n",
    "- We are calculating in green the 95% confidence interval and the red line is demonstrate the median of the different models\n",
    "- We can recognize that the model seem that we using a really good model with a high accuracy because the interval is really small and close to the median\n",
    "- We are getting a low deviation of the different models thus means the uncertanty is low\n"
   ]
  },
  {
   "cell_type": "markdown",
   "metadata": {},
   "source": []
  }
 ],
 "metadata": {
  "anaconda-cloud": {},
  "kernelspec": {
   "display_name": "Python 3",
   "language": "python",
   "name": "python3"
  },
  "language_info": {
   "codemirror_mode": {
    "name": "ipython",
    "version": 3
   },
   "file_extension": ".py",
   "mimetype": "text/x-python",
   "name": "python",
   "nbconvert_exporter": "python",
   "pygments_lexer": "ipython3",
   "version": "3.11.1"
  },
  "vscode": {
   "interpreter": {
    "hash": "03a4b5b3f6d1d679cc29636609b9ed25a34d59d45c4e7a0333704bb23e6385a6"
   }
  }
 },
 "nbformat": 4,
 "nbformat_minor": 4
}
